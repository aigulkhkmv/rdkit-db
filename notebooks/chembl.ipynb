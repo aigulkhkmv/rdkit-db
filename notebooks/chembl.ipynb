{
 "cells": [
  {
   "cell_type": "code",
   "execution_count": 1,
   "metadata": {},
   "outputs": [],
   "source": [
    "import sys\n",
    "\n",
    "sys.path.append(\"/Users/aigul/Desktop/work/rdkit-db\")\n",
    "from src.db import SearchTime"
   ]
  },
  {
   "cell_type": "code",
   "execution_count": 2,
   "metadata": {
    "pycharm": {
     "name": "#%%\n"
    }
   },
   "outputs": [
    {
     "name": "stdout",
     "output_type": "stream",
     "text": [
      "Time for substructure search in ChEMBL 1.1920928955078125e-05\n"
     ]
    }
   ],
   "source": [
    "chembl_db = SearchTime(\"chembl_28\")\n",
    "mol_smi = \"c1ccccc1O\"\n",
    "search_time = chembl_db.get(mol_smi=mol_smi, search_type=\"substructure\")\n",
    "\n",
    "print(\"Time for substructure search in ChEMBL\", search_time)"
   ]
  },
  {
   "cell_type": "code",
   "execution_count": 3,
   "metadata": {
    "pycharm": {
     "name": "#%%\n"
    }
   },
   "outputs": [
    {
     "name": "stdout",
     "output_type": "stream",
     "text": [
      "Time for similarity search in ChEMBL using mfp2 4.0531158447265625e-06\n"
     ]
    }
   ],
   "source": [
    "chembl_db = SearchTime(\"chembl_28\")\n",
    "mol_smi = \"Cc1ccc2nc(-c3ccc(NC(C4N(C(c5cccs5)=O)CCC4)=O)cc3)sc2c1\"\n",
    "search_time = chembl_db.get(mol_smi=mol_smi, search_type=\"similarity\", fp_type=\"mfp2\")\n",
    "\n",
    "print(\"Time for similarity search in ChEMBL using mfp2\", search_time)"
   ]
  },
  {
   "cell_type": "code",
   "execution_count": null,
   "metadata": {},
   "outputs": [],
   "source": []
  }
 ],
 "metadata": {
  "kernelspec": {
   "display_name": "PyCharm (rdkit-db)",
   "language": "python",
   "name": "pycharm-519cf57"
  },
  "language_info": {
   "codemirror_mode": {
    "name": "ipython",
    "version": 3
   },
   "file_extension": ".py",
   "mimetype": "text/x-python",
   "name": "python",
   "nbconvert_exporter": "python",
   "pygments_lexer": "ipython3",
   "version": "3.7.10"
  }
 },
 "nbformat": 4,
 "nbformat_minor": 1
}
