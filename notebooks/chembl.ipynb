{
 "cells": [
  {
   "cell_type": "code",
   "execution_count": 1,
   "metadata": {},
   "outputs": [],
   "source": [
    "import sys\n",
    "\n",
    "sys.path.append(\"/Users/aigul/Desktop/work/rdkit-db\")\n",
    "from src.db import SearchTime"
   ]
  },
  {
   "cell_type": "markdown",
   "metadata": {},
   "source": [
    "### Substucture search"
   ]
  },
  {
   "cell_type": "code",
   "execution_count": 2,
   "metadata": {
    "pycharm": {
     "name": "#%%\n"
    }
   },
   "outputs": [
    {
     "name": "stdout",
     "output_type": "stream",
     "text": [
      "Time for substructure search in ChEMBL 206.64622497558594\n"
     ]
    }
   ],
   "source": [
    "chembl_db_time = SearchTime(\"chembl_28\")\n",
    "mol_smi = \"c1ccccc1O\"\n",
    "search_time = chembl_db_time.get(mol_smi=mol_smi, search_type=\"substructure\")\n",
    "\n",
    "print(\"Time for substructure search in ChEMBL\", search_time)"
   ]
  },
  {
   "cell_type": "code",
   "execution_count": 2,
   "metadata": {},
   "outputs": [
    {
     "name": "stdout",
     "output_type": "stream",
     "text": [
      "Time for substructure search c1ccccc1O in ChEMBL 191.29283714294434\n",
      "Time for substructure search C=CCOc1nc(-c2ccc(N)cn2)nc(C)c1Cl in ChEMBL 0.1820669174194336\n",
      "Time for substructure search Cc1ccc2nc(-c3ccc(NC(C4N(C(c5cccs5)=O)CCC4)=O)cc3)sc2c1 in ChEMBL 0.10226202011108398\n",
      "Time for substructure search c1ccccc1 in ChEMBL 351.202125787735\n",
      "Time for substructure search COc1ccc2c(=O)c(-c3ccccc3)coc2c1C in ChEMBL 0.1869518756866455\n",
      "Time for substructure search CCCCCCCC[C@H]1CCC(=O)O1 in ChEMBL 1.6509370803833008\n"
     ]
    }
   ],
   "source": [
    "chembl_db_time = SearchTime(\"chembl_28\")\n",
    "mols_list = [\"c1ccccc1O\",\n",
    "             \"C=CCOc1nc(-c2ccc(N)cn2)nc(C)c1Cl\",\n",
    "             \"Cc1ccc2nc(-c3ccc(NC(C4N(C(c5cccs5)=O)CCC4)=O)cc3)sc2c1\", \n",
    "             \"c1ccccc1\",\n",
    "             \"COc1ccc2c(=O)c(-c3ccccc3)coc2c1C\",\n",
    "             \"CCCCCCCC[C@H]1CCC(=O)O1\"  \n",
    "            ]\n",
    "\n",
    "for mol_smi in mols_list:\n",
    "    search_time = chembl_db_time.get(mol_smi=mol_smi, search_type=\"substructure\")\n",
    "    print(f\"Time for substructure search {mol_smi} in ChEMBL\", search_time)"
   ]
  },
  {
   "cell_type": "markdown",
   "metadata": {},
   "source": [
    "### Sorted substructure search"
   ]
  },
  {
   "cell_type": "code",
   "execution_count": 3,
   "metadata": {},
   "outputs": [
    {
     "name": "stdout",
     "output_type": "stream",
     "text": [
      "(13456, 'Oc1ccccc1', 1.0)\n",
      "Time for substructure search c1ccccc1O in ChEMBL 346.7702889442444\n",
      "(708718, 'C=CCOc1nc(-c2ccc(N)cn2)nc(C)c1Cl', 1.0)\n",
      "Time for substructure search C=CCOc1nc(-c2ccc(N)cn2)nc(C)c1Cl in ChEMBL 0.19154977798461914\n",
      "None\n",
      "Time for substructure search Cc1ccc2nc(-c3ccc(NC(C4N(C(c5cccs5)=O)CCC4)=O)cc3)sc2c1 in ChEMBL 0.0673222541809082\n",
      "(16832, 'c1ccccc1', 1.0)\n",
      "Time for substructure search c1ccccc1 in ChEMBL 627.3139050006866\n",
      "(708727, 'COc1ccc2c(=O)c(-c3ccccc3)coc2c1C', 1.0)\n",
      "Time for substructure search COc1ccc2c(=O)c(-c3ccccc3)coc2c1C in ChEMBL 0.19688177108764648\n",
      "(322671, 'CCCCCCCCC1CCC(=O)O1', 1.0)\n",
      "Time for substructure search CCCCCCCC[C@H]1CCC(=O)O1 in ChEMBL 1.826751947402954\n"
     ]
    }
   ],
   "source": [
    "chembl_db_time = SearchTime(\"chembl_28\")\n",
    "mols_list = [\"c1ccccc1O\",\n",
    "             \"C=CCOc1nc(-c2ccc(N)cn2)nc(C)c1Cl\",\n",
    "             \"Cc1ccc2nc(-c3ccc(NC(C4N(C(c5cccs5)=O)CCC4)=O)cc3)sc2c1\", \n",
    "             \"c1ccccc1\",\n",
    "             \"COc1ccc2c(=O)c(-c3ccccc3)coc2c1C\",\n",
    "             \"CCCCCCCC[C@H]1CCC(=O)O1\"  \n",
    "            ]\n",
    "for mol_smi in mols_list:\n",
    "    search_time = chembl_db_time.get(mol_smi=mol_smi, search_type=\"substructure\", sort_by_similarity=True, fp_type=\"mfp2\")\n",
    "    print(f\"Time for substructure search {mol_smi} in ChEMBL\", search_time)"
   ]
  },
  {
   "cell_type": "markdown",
   "metadata": {},
   "source": [
    "### Similarity search using mfp2, ffp2, torsionbv fingerprints\n",
    "\n",
    "By default, the minimum similarity returned with a similarity search is 0.5"
   ]
  },
  {
   "cell_type": "code",
   "execution_count": 3,
   "metadata": {
    "pycharm": {
     "name": "#%%\n"
    }
   },
   "outputs": [
    {
     "name": "stdout",
     "output_type": "stream",
     "text": [
      "Time for similarity search Cc1ccc2nc(-c3ccc(NC(C4N(C(c5cccs5)=O)CCC4)=O)cc3)sc2c1 in ChEMBL using\n",
      " mfp2: 0.8469991683959961\n",
      " ffp2: 0.30940961837768555\n",
      " torsionbv: 0.38628506660461426\n"
     ]
    }
   ],
   "source": [
    "chembl_db_time = SearchTime(\"chembl_28\")\n",
    "mol_smi = \"Cc1ccc2nc(-c3ccc(NC(C4N(C(c5cccs5)=O)CCC4)=O)cc3)sc2c1\"\n",
    "search_time_mfp2 = chembl_db_time.get(mol_smi=mol_smi, search_type=\"similarity\", fp_type=\"mfp2\")\n",
    "search_time_ffp2 = chembl_db_time.get(mol_smi=mol_smi, search_type=\"similarity\", fp_type=\"ffp2\")\n",
    "search_time_torsionbv = chembl_db_time.get(mol_smi=mol_smi, search_type=\"similarity\", fp_type=\"torsionbv\")\n",
    "\n",
    "print(f\"Time for similarity search {mol_smi} in ChEMBL using\\n mfp2: {search_time_mfp2}\\n ffp2: {search_time_ffp2}\\n torsionbv: {search_time_torsionbv}\")"
   ]
  },
  {
   "cell_type": "code",
   "execution_count": 7,
   "metadata": {},
   "outputs": [
    {
     "name": "stdout",
     "output_type": "stream",
     "text": [
      "Time for similarity search C=CCOc1nc(-c2ccc(N)cn2)nc(C)c1Cl in ChEMBL using\n",
      " mfp2: 0.9635419845581055\n",
      " ffp2: 0.39028406143188477\n",
      " torsionbv: 0.4000372886657715\n"
     ]
    }
   ],
   "source": [
    "chembl_db_time = SearchTime(\"chembl_28\")\n",
    "mol_smi = \"C=CCOc1nc(-c2ccc(N)cn2)nc(C)c1Cl\"\n",
    "search_time_mfp2 = chembl_db_time.get(mol_smi=mol_smi, search_type=\"similarity\", fp_type=\"mfp2\")\n",
    "search_time_ffp2 = chembl_db_time.get(mol_smi=mol_smi, search_type=\"similarity\", fp_type=\"ffp2\")\n",
    "search_time_torsionbv = chembl_db_time.get(mol_smi=mol_smi, search_type=\"similarity\", fp_type=\"torsionbv\")\n",
    "\n",
    "print(f\"Time for similarity search {mol_smi} in ChEMBL using\\n mfp2: {search_time_mfp2}\\n ffp2: {search_time_ffp2}\\n torsionbv: {search_time_torsionbv}\")"
   ]
  },
  {
   "cell_type": "code",
   "execution_count": 8,
   "metadata": {},
   "outputs": [
    {
     "name": "stdout",
     "output_type": "stream",
     "text": [
      "Time for similarity search COc1ccc2c(=O)c(-c3ccccc3)coc2c1C in ChEMBL using\n",
      " mfp2: 0.3508338928222656\n",
      " ffp2: 0.32709383964538574\n",
      " torsionbv: 0.5140669345855713\n"
     ]
    }
   ],
   "source": [
    "# last mol from chembl db\n",
    "chembl_db = SearchTime(\"chembl_28\")\n",
    "mol_smi = \"COc1ccc2c(=O)c(-c3ccccc3)coc2c1C\"\n",
    "search_time_mfp2 = chembl_db_time.get(mol_smi=mol_smi, search_type=\"similarity\", fp_type=\"mfp2\")\n",
    "search_time_ffp2 = chembl_db_time.get(mol_smi=mol_smi, search_type=\"similarity\", fp_type=\"ffp2\")\n",
    "search_time_torsionbv = chembl_db_time.get(mol_smi=mol_smi, search_type=\"similarity\", fp_type=\"torsionbv\")\n",
    "\n",
    "print(f\"Time for similarity search {mol_smi} in ChEMBL using\\n mfp2: {search_time_mfp2}\\n ffp2: {search_time_ffp2}\\n torsionbv: {search_time_torsionbv}\")"
   ]
  },
  {
   "cell_type": "code",
   "execution_count": 9,
   "metadata": {},
   "outputs": [
    {
     "name": "stdout",
     "output_type": "stream",
     "text": [
      "Time for similarity search CCCCCCCC[C@H]1CCC(=O)O1 in ChEMBL using\n",
      " mfp2: 0.8651039600372314\n",
      " ffp2: 0.12165594100952148\n",
      " torsionbv: 0.19475698471069336\n"
     ]
    }
   ],
   "source": [
    "# mol №7 in chembl db\n",
    "chembl_db_time = SearchTime(\"chembl_28\")\n",
    "mol_smi = \"CCCCCCCC[C@H]1CCC(=O)O1\"\n",
    "search_time_mfp2 = chembl_db_time.get(mol_smi=mol_smi, search_type=\"similarity\", fp_type=\"mfp2\")\n",
    "search_time_ffp2 = chembl_db_time.get(mol_smi=mol_smi, search_type=\"similarity\", fp_type=\"ffp2\")\n",
    "search_time_torsionbv = chembl_db_time.get(mol_smi=mol_smi, search_type=\"similarity\", fp_type=\"torsionbv\")\n",
    "\n",
    "print(f\"Time for similarity search {mol_smi} in ChEMBL using\\n mfp2: {search_time_mfp2}\\n ffp2: {search_time_ffp2}\\n torsionbv: {search_time_torsionbv}\")"
   ]
  },
  {
   "cell_type": "code",
   "execution_count": 10,
   "metadata": {},
   "outputs": [
    {
     "name": "stdout",
     "output_type": "stream",
     "text": [
      "Time for similarity search c1ccccc1 in ChEMBL using\n",
      " mfp2: 0.5320777893066406\n",
      " ffp2: 0.0023469924926757812\n",
      " torsionbv: 0.007338047027587891\n"
     ]
    }
   ],
   "source": [
    "chembl_db_time = SearchTime(\"chembl_28\")\n",
    "mol_smi = \"c1ccccc1\"\n",
    "search_time_mfp2 = chembl_db_time.get(mol_smi=mol_smi, search_type=\"similarity\", fp_type=\"mfp2\")\n",
    "search_time_ffp2 = chembl_db_time.get(mol_smi=mol_smi, search_type=\"similarity\", fp_type=\"ffp2\")\n",
    "search_time_torsionbv = chembl_db_time.get(mol_smi=mol_smi, search_type=\"similarity\", fp_type=\"torsionbv\")\n",
    "\n",
    "print(f\"Time for similarity search {mol_smi} in ChEMBL using\\n mfp2: {search_time_mfp2}\\n ffp2: {search_time_ffp2}\\n torsionbv: {search_time_torsionbv}\")"
   ]
  },
  {
   "cell_type": "markdown",
   "metadata": {},
   "source": [
    "### Sorted similarity search "
   ]
  },
  {
   "cell_type": "code",
   "execution_count": 2,
   "metadata": {},
   "outputs": [],
   "source": [
    "mols = [\"c1ccccc1O\", \n",
    "        \"C=CCOc1nc(-c2ccc(N)cn2)nc(C)c1Cl\", \n",
    "        \"Cc1ccc2nc(-c3ccc(NC(C4N(C(c5cccs5)=O)CCC4)=O)cc3)sc2c1\", \n",
    "        \"c1ccccc1\",\n",
    "        \"COc1ccc2c(=O)c(-c3ccccc3)coc2c1C\",\n",
    "        \"CCCCCCCC[C@H]1CCC(=O)O1\"]"
   ]
  },
  {
   "cell_type": "code",
   "execution_count": 4,
   "metadata": {},
   "outputs": [
    {
     "name": "stdout",
     "output_type": "stream",
     "text": [
      "all\n",
      "Time for substructure search c1ccccc1O in ChEMBL 0.5565018653869629\n",
      "all\n",
      "Time for substructure search C=CCOc1nc(-c2ccc(N)cn2)nc(C)c1Cl in ChEMBL 0.9436819553375244\n",
      "all\n",
      "Time for substructure search Cc1ccc2nc(-c3ccc(NC(C4N(C(c5cccs5)=O)CCC4)=O)cc3)sc2c1 in ChEMBL 1.1199009418487549\n",
      "all\n",
      "Time for substructure search c1ccccc1 in ChEMBL 0.8701708316802979\n",
      "all\n",
      "Time for substructure search COc1ccc2c(=O)c(-c3ccccc3)coc2c1C in ChEMBL 1.0397837162017822\n",
      "all\n",
      "Time for substructure search CCCCCCCC[C@H]1CCC(=O)O1 in ChEMBL 0.9332292079925537\n"
     ]
    }
   ],
   "source": [
    "for mol_smi in mols:\n",
    "    chembl_db_time = SearchTime(\"chembl_28\")\n",
    "    search_time = chembl_db_time.get(mol_smi=mol_smi, search_type=\"similarity\", first_in=False, fp_type=\"mfp2\", sort_by_similarity=True)\n",
    "    print(f\"Time for substructure search {mol_smi} in ChEMBL {search_time}\")"
   ]
  },
  {
   "cell_type": "code",
   "execution_count": null,
   "metadata": {},
   "outputs": [],
   "source": []
  },
  {
   "cell_type": "code",
   "execution_count": null,
   "metadata": {},
   "outputs": [],
   "source": []
  }
 ],
 "metadata": {
  "kernelspec": {
   "display_name": "PyCharm (rdkit-db)",
   "language": "python",
   "name": "pycharm-519cf57"
  },
  "language_info": {
   "codemirror_mode": {
    "name": "ipython",
    "version": 3
   },
   "file_extension": ".py",
   "mimetype": "text/x-python",
   "name": "python",
   "nbconvert_exporter": "python",
   "pygments_lexer": "ipython3",
   "version": "3.7.10"
  }
 },
 "nbformat": 4,
 "nbformat_minor": 1
}
