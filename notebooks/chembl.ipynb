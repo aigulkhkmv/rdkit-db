{
 "cells": [
  {
   "cell_type": "code",
   "execution_count": 1,
   "metadata": {},
   "outputs": [],
   "source": [
    "import sys\n",
    "\n",
    "sys.path.append(\"/Users/aigul/Desktop/work/rdkit-db\")\n",
    "from src.db import SearchTime"
   ]
  },
  {
   "cell_type": "markdown",
   "metadata": {},
   "source": [
    "### Substucture search"
   ]
  },
  {
   "cell_type": "code",
   "execution_count": 2,
   "metadata": {
    "pycharm": {
     "name": "#%%\n"
    }
   },
   "outputs": [
    {
     "name": "stdout",
     "output_type": "stream",
     "text": [
      "Time for substructure search in ChEMBL 206.64622497558594\n"
     ]
    }
   ],
   "source": [
    "chembl_db_time = SearchTime(\"chembl_28\")\n",
    "mol_smi = \"c1ccccc1O\"\n",
    "search_time = chembl_db_time.get(mol_smi=mol_smi, search_type=\"substructure\")\n",
    "\n",
    "print(\"Time for substructure search in ChEMBL\", search_time)"
   ]
  },
  {
   "cell_type": "markdown",
   "metadata": {},
   "source": [
    "### Similarity search using mfp2, ffp2, torsionbv fingerprints\n",
    "\n",
    "By default, the minimum similarity returned with a similarity search is 0.5"
   ]
  },
  {
   "cell_type": "code",
   "execution_count": 3,
   "metadata": {
    "pycharm": {
     "name": "#%%\n"
    }
   },
   "outputs": [
    {
     "name": "stdout",
     "output_type": "stream",
     "text": [
      "Time for similarity search Cc1ccc2nc(-c3ccc(NC(C4N(C(c5cccs5)=O)CCC4)=O)cc3)sc2c1 in ChEMBL using\n",
      " mfp2: 0.8469991683959961\n",
      " ffp2: 0.30940961837768555\n",
      " torsionbv: 0.38628506660461426\n"
     ]
    }
   ],
   "source": [
    "chembl_db_time = SearchTime(\"chembl_28\")\n",
    "mol_smi = \"Cc1ccc2nc(-c3ccc(NC(C4N(C(c5cccs5)=O)CCC4)=O)cc3)sc2c1\"\n",
    "search_time_mfp2 = chembl_db_time.get(mol_smi=mol_smi, search_type=\"similarity\", fp_type=\"mfp2\")\n",
    "search_time_ffp2 = chembl_db_time.get(mol_smi=mol_smi, search_type=\"similarity\", fp_type=\"ffp2\")\n",
    "search_time_torsionbv = chembl_db_time.get(mol_smi=mol_smi, search_type=\"similarity\", fp_type=\"torsionbv\")\n",
    "\n",
    "print(f\"Time for similarity search {mol_smi} in ChEMBL using\\n mfp2: {search_time_mfp2}\\n ffp2: {search_time_ffp2}\\n torsionbv: {search_time_torsionbv}\")"
   ]
  },
  {
   "cell_type": "code",
   "execution_count": 4,
   "metadata": {},
   "outputs": [
    {
     "name": "stdout",
     "output_type": "stream",
     "text": [
      "Time for similarity search C=CCOc1nc(-c2ccc(N)cn2)nc(C)c1Cl in ChEMBL using\n",
      " mfp2: 0.8543601036071777\n",
      " ffp2: 0.3208889961242676\n",
      " torsionbv: 0.39765095710754395\n"
     ]
    }
   ],
   "source": [
    "chembl_db_time = SearchTime(\"chembl_28\")\n",
    "mol_smi = \"C=CCOc1nc(-c2ccc(N)cn2)nc(C)c1Cl\"\n",
    "search_time_mfp2 = chembl_db_time.get(mol_smi=mol_smi, search_type=\"similarity\", fp_type=\"mfp2\")\n",
    "search_time_ffp2 = chembl_db_time.get(mol_smi=mol_smi, search_type=\"similarity\", fp_type=\"ffp2\")\n",
    "search_time_torsionbv = chembl_db_time.get(mol_smi=mol_smi, search_type=\"similarity\", fp_type=\"torsionbv\")\n",
    "\n",
    "print(f\"Time for similarity search {mol_smi} in ChEMBL using\\n mfp2: {search_time_mfp2}\\n ffp2: {search_time_ffp2}\\n torsionbv: {search_time_torsionbv}\")"
   ]
  },
  {
   "cell_type": "code",
   "execution_count": 5,
   "metadata": {},
   "outputs": [
    {
     "name": "stdout",
     "output_type": "stream",
     "text": [
      "Time for similarity search COc1ccc2c(=O)c(-c3ccccc3)coc2c1C in ChEMBL using\n",
      " mfp2: 0.3329579830169678\n",
      " ffp2: 0.3298780918121338\n",
      " torsionbv: 0.5428249835968018\n"
     ]
    }
   ],
   "source": [
    "# last mol from chembl db\n",
    "chembl_db = SearchTime(\"chembl_28\")\n",
    "mol_smi = \"COc1ccc2c(=O)c(-c3ccccc3)coc2c1C\"\n",
    "search_time_mfp2 = chembl_db_time.get(mol_smi=mol_smi, search_type=\"similarity\", fp_type=\"mfp2\")\n",
    "search_time_ffp2 = chembl_db_time.get(mol_smi=mol_smi, search_type=\"similarity\", fp_type=\"ffp2\")\n",
    "search_time_torsionbv = chembl_db_time.get(mol_smi=mol_smi, search_type=\"similarity\", fp_type=\"torsionbv\")\n",
    "\n",
    "print(f\"Time for similarity search {mol_smi} in ChEMBL using\\n mfp2: {search_time_mfp2}\\n ffp2: {search_time_ffp2}\\n torsionbv: {search_time_torsionbv}\")"
   ]
  },
  {
   "cell_type": "code",
   "execution_count": 6,
   "metadata": {},
   "outputs": [
    {
     "name": "stdout",
     "output_type": "stream",
     "text": [
      "Time for similarity search CCCCCCCC[C@H]1CCC(=O)O1 in ChEMBL using\n",
      " mfp2: 0.8410179615020752\n",
      " ffp2: 0.18067002296447754\n",
      " torsionbv: 0.20537495613098145\n"
     ]
    }
   ],
   "source": [
    "# mol №7 in chembl db\n",
    "chembl_db_time = SearchTime(\"chembl_28\")\n",
    "mol_smi = \"CCCCCCCC[C@H]1CCC(=O)O1\"\n",
    "search_time_mfp2 = chembl_db_time.get(mol_smi=mol_smi, search_type=\"similarity\", fp_type=\"mfp2\")\n",
    "search_time_ffp2 = chembl_db_time.get(mol_smi=mol_smi, search_type=\"similarity\", fp_type=\"ffp2\")\n",
    "search_time_torsionbv = chembl_db_time.get(mol_smi=mol_smi, search_type=\"similarity\", fp_type=\"torsionbv\")\n",
    "\n",
    "print(f\"Time for similarity search {mol_smi} in ChEMBL using\\n mfp2: {search_time_mfp2}\\n ffp2: {search_time_ffp2}\\n torsionbv: {search_time_torsionbv}\")"
   ]
  },
  {
   "cell_type": "code",
   "execution_count": null,
   "metadata": {},
   "outputs": [],
   "source": []
  }
 ],
 "metadata": {
  "kernelspec": {
   "display_name": "PyCharm (rdkit-db)",
   "language": "python",
   "name": "pycharm-519cf57"
  },
  "language_info": {
   "codemirror_mode": {
    "name": "ipython",
    "version": 3
   },
   "file_extension": ".py",
   "mimetype": "text/x-python",
   "name": "python",
   "nbconvert_exporter": "python",
   "pygments_lexer": "ipython3",
   "version": "3.7.10"
  }
 },
 "nbformat": 4,
 "nbformat_minor": 1
}
