{
 "cells": [
  {
   "cell_type": "code",
   "execution_count": 1,
   "metadata": {},
   "outputs": [],
   "source": [
    "import sys\n",
    "\n",
    "sys.path.append(\"/Users/aigul/Desktop/work/rdkit-db\")\n",
    "from src.db import SearchTime"
   ]
  },
  {
   "cell_type": "markdown",
   "metadata": {},
   "source": [
    "### Substucture search"
   ]
  },
  {
   "cell_type": "code",
   "execution_count": 2,
   "metadata": {
    "pycharm": {
     "name": "#%%\n"
    }
   },
   "outputs": [
    {
     "name": "stdout",
     "output_type": "stream",
     "text": [
      "Time for substructure search in ChEMBL 1.0013580322265625e-05\n"
     ]
    }
   ],
   "source": [
    "chembl_db = SearchTime(\"chembl_28\")\n",
    "mol_smi = \"c1ccccc1O\"\n",
    "search_time = chembl_db.get(mol_smi=mol_smi, search_type=\"substructure\")\n",
    "\n",
    "print(\"Time for substructure search in ChEMBL\", search_time)"
   ]
  },
  {
   "cell_type": "markdown",
   "metadata": {},
   "source": [
    "### Similarity search using mfp2, ffp2, torsionbv fingerprints\n",
    "\n",
    "By default, the minimum similarity returned with a similarity search is 0.5"
   ]
  },
  {
   "cell_type": "code",
   "execution_count": 3,
   "metadata": {
    "pycharm": {
     "name": "#%%\n"
    }
   },
   "outputs": [
    {
     "name": "stdout",
     "output_type": "stream",
     "text": [
      "Time for similarity search Cc1ccc2nc(-c3ccc(NC(C4N(C(c5cccs5)=O)CCC4)=O)cc3)sc2c1 in ChEMBL using\n",
      " mfp2: 4.76837158203125e-06\n",
      " ffp2: 4.0531158447265625e-06\n",
      " torsionbv: 4.291534423828125e-06\n"
     ]
    }
   ],
   "source": [
    "chembl_db = SearchTime(\"chembl_28\")\n",
    "mol_smi = \"Cc1ccc2nc(-c3ccc(NC(C4N(C(c5cccs5)=O)CCC4)=O)cc3)sc2c1\"\n",
    "search_time_mfp2 = chembl_db.get(mol_smi=mol_smi, search_type=\"similarity\", fp_type=\"mfp2\")\n",
    "search_time_ffp2 = chembl_db.get(mol_smi=mol_smi, search_type=\"similarity\", fp_type=\"ffp2\")\n",
    "search_time_torsionbv = chembl_db.get(mol_smi=mol_smi, search_type=\"similarity\", fp_type=\"torsionbv\")\n",
    "\n",
    "print(f\"Time for similarity search {mol_smi} in ChEMBL using\\n mfp2: {search_time_mfp2}\\n ffp2: {search_time_ffp2}\\n torsionbv: {search_time_torsionbv}\")"
   ]
  },
  {
   "cell_type": "code",
   "execution_count": 4,
   "metadata": {},
   "outputs": [
    {
     "name": "stdout",
     "output_type": "stream",
     "text": [
      "Time for similarity search C=CCOc1nc(-c2ccc(N)cn2)nc(C)c1Cl in ChEMBL using\n",
      " mfp2: 6.198883056640625e-06\n",
      " ffp2: 5.245208740234375e-06\n",
      " torsionbv: 3.814697265625e-06\n"
     ]
    }
   ],
   "source": [
    "chembl_db = SearchTime(\"chembl_28\")\n",
    "mol_smi = \"C=CCOc1nc(-c2ccc(N)cn2)nc(C)c1Cl\"\n",
    "search_time_mfp2 = chembl_db.get(mol_smi=mol_smi, search_type=\"similarity\", fp_type=\"mfp2\")\n",
    "search_time_ffp2 = chembl_db.get(mol_smi=mol_smi, search_type=\"similarity\", fp_type=\"ffp2\")\n",
    "search_time_torsionbv = chembl_db.get(mol_smi=mol_smi, search_type=\"similarity\", fp_type=\"torsionbv\")\n",
    "\n",
    "print(f\"Time for similarity search {mol_smi} in ChEMBL using\\n mfp2: {search_time_mfp2}\\n ffp2: {search_time_ffp2}\\n torsionbv: {search_time_torsionbv}\")"
   ]
  },
  {
   "cell_type": "code",
   "execution_count": 5,
   "metadata": {},
   "outputs": [
    {
     "name": "stdout",
     "output_type": "stream",
     "text": [
      "Time for similarity search COc1ccc2c(=O)c(-c3ccccc3)coc2c1C in ChEMBL using\n",
      " mfp2: 5.0067901611328125e-06\n",
      " ffp2: 5.0067901611328125e-06\n",
      " torsionbv: 4.0531158447265625e-06\n"
     ]
    }
   ],
   "source": [
    "# last mol from chembl db\n",
    "chembl_db = SearchTime(\"chembl_28\")\n",
    "mol_smi = \"COc1ccc2c(=O)c(-c3ccccc3)coc2c1C\"\n",
    "search_time_mfp2 = chembl_db.get(mol_smi=mol_smi, search_type=\"similarity\", fp_type=\"mfp2\")\n",
    "search_time_ffp2 = chembl_db.get(mol_smi=mol_smi, search_type=\"similarity\", fp_type=\"ffp2\")\n",
    "search_time_torsionbv = chembl_db.get(mol_smi=mol_smi, search_type=\"similarity\", fp_type=\"torsionbv\")\n",
    "\n",
    "print(f\"Time for similarity search {mol_smi} in ChEMBL using\\n mfp2: {search_time_mfp2}\\n ffp2: {search_time_ffp2}\\n torsionbv: {search_time_torsionbv}\")"
   ]
  },
  {
   "cell_type": "code",
   "execution_count": 6,
   "metadata": {},
   "outputs": [
    {
     "name": "stdout",
     "output_type": "stream",
     "text": [
      "Time for similarity search CCCCCCCC[C@H]1CCC(=O)O1 in ChEMBL using\n",
      " mfp2: 5.7220458984375e-06\n",
      " ffp2: 4.0531158447265625e-06\n",
      " torsionbv: 5.9604644775390625e-06\n"
     ]
    }
   ],
   "source": [
    "# mol №7 in chembl db\n",
    "chembl_db = SearchTime(\"chembl_28\")\n",
    "mol_smi = \"CCCCCCCC[C@H]1CCC(=O)O1\"\n",
    "search_time_mfp2 = chembl_db.get(mol_smi=mol_smi, search_type=\"similarity\", fp_type=\"mfp2\")\n",
    "search_time_ffp2 = chembl_db.get(mol_smi=mol_smi, search_type=\"similarity\", fp_type=\"ffp2\")\n",
    "search_time_torsionbv = chembl_db.get(mol_smi=mol_smi, search_type=\"similarity\", fp_type=\"torsionbv\")\n",
    "\n",
    "print(f\"Time for similarity search {mol_smi} in ChEMBL using\\n mfp2: {search_time_mfp2}\\n ffp2: {search_time_ffp2}\\n torsionbv: {search_time_torsionbv}\")"
   ]
  },
  {
   "cell_type": "code",
   "execution_count": null,
   "metadata": {},
   "outputs": [],
   "source": []
  }
 ],
 "metadata": {
  "kernelspec": {
   "display_name": "PyCharm (rdkit-db)",
   "language": "python",
   "name": "pycharm-519cf57"
  },
  "language_info": {
   "codemirror_mode": {
    "name": "ipython",
    "version": 3
   },
   "file_extension": ".py",
   "mimetype": "text/x-python",
   "name": "python",
   "nbconvert_exporter": "python",
   "pygments_lexer": "ipython3",
   "version": "3.7.10"
  }
 },
 "nbformat": 4,
 "nbformat_minor": 1
}
