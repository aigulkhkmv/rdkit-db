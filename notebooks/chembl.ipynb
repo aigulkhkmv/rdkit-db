{
 "cells": [
  {
   "cell_type": "code",
   "execution_count": 1,
   "metadata": {},
   "outputs": [],
   "source": [
    "import sys\n",
    "import pandas as pd\n",
    "\n",
    "sys.path.append(\"/Users/aigul/Desktop/work/rdkit-db\")\n",
    "from src.db import SearchTime"
   ]
  },
  {
   "cell_type": "code",
   "execution_count": 2,
   "metadata": {},
   "outputs": [
    {
     "ename": "OperationalError",
     "evalue": "could not connect to server: No such file or directory\n\tIs the server running locally and accepting\n\tconnections on Unix domain socket \"/tmp/.s.PGSQL.5432\"?\n",
     "output_type": "error",
     "traceback": [
      "\u001b[0;31m---------------------------------------------------------------------------\u001b[0m",
      "\u001b[0;31mOperationalError\u001b[0m                          Traceback (most recent call last)",
      "\u001b[0;32m<ipython-input-2-8f124a595d71>\u001b[0m in \u001b[0;36m<module>\u001b[0;34m\u001b[0m\n\u001b[0;32m----> 1\u001b[0;31m \u001b[0mchembl_db_time\u001b[0m \u001b[0;34m=\u001b[0m \u001b[0mSearchTime\u001b[0m\u001b[0;34m(\u001b[0m\u001b[0;34m\"chembl_28\"\u001b[0m\u001b[0;34m)\u001b[0m\u001b[0;34m\u001b[0m\u001b[0;34m\u001b[0m\u001b[0m\n\u001b[0m\u001b[1;32m      2\u001b[0m mols_list = [\"c1ccccc1O\",\n\u001b[1;32m      3\u001b[0m              \u001b[0;34m\"C=CCOc1nc(-c2ccc(N)cn2)nc(C)c1Cl\"\u001b[0m\u001b[0;34m,\u001b[0m\u001b[0;34m\u001b[0m\u001b[0;34m\u001b[0m\u001b[0m\n\u001b[1;32m      4\u001b[0m              \u001b[0;34m\"Cc1ccc2nc(-c3ccc(NC(C4N(C(c5cccs5)=O)CCC4)=O)cc3)sc2c1\"\u001b[0m\u001b[0;34m,\u001b[0m\u001b[0;34m\u001b[0m\u001b[0;34m\u001b[0m\u001b[0m\n\u001b[1;32m      5\u001b[0m              \u001b[0;34m\"c1ccccc1\"\u001b[0m\u001b[0;34m,\u001b[0m\u001b[0;34m\u001b[0m\u001b[0;34m\u001b[0m\u001b[0m\n",
      "\u001b[0;32m~/Desktop/work/rdkit-db/src/db.py\u001b[0m in \u001b[0;36m__init__\u001b[0;34m(self, database_name)\u001b[0m\n\u001b[1;32m     54\u001b[0m     \u001b[0;32mdef\u001b[0m \u001b[0m__init__\u001b[0m\u001b[0;34m(\u001b[0m\u001b[0mself\u001b[0m\u001b[0;34m,\u001b[0m \u001b[0mdatabase_name\u001b[0m\u001b[0;34m:\u001b[0m \u001b[0mstr\u001b[0m\u001b[0;34m)\u001b[0m\u001b[0;34m:\u001b[0m\u001b[0;34m\u001b[0m\u001b[0;34m\u001b[0m\u001b[0m\n\u001b[1;32m     55\u001b[0m         \u001b[0mself\u001b[0m\u001b[0;34m.\u001b[0m\u001b[0mdatabase_name\u001b[0m \u001b[0;34m=\u001b[0m \u001b[0mdatabase_name\u001b[0m\u001b[0;34m\u001b[0m\u001b[0;34m\u001b[0m\u001b[0m\n\u001b[0;32m---> 56\u001b[0;31m         \u001b[0mconn\u001b[0m \u001b[0;34m=\u001b[0m \u001b[0mpsycopg2\u001b[0m\u001b[0;34m.\u001b[0m\u001b[0mconnect\u001b[0m\u001b[0;34m(\u001b[0m\u001b[0mdatabase\u001b[0m\u001b[0;34m=\u001b[0m\u001b[0mself\u001b[0m\u001b[0;34m.\u001b[0m\u001b[0mdatabase_name\u001b[0m\u001b[0;34m)\u001b[0m\u001b[0;34m\u001b[0m\u001b[0;34m\u001b[0m\u001b[0m\n\u001b[0m\u001b[1;32m     57\u001b[0m         \u001b[0mself\u001b[0m\u001b[0;34m.\u001b[0m\u001b[0mcurs\u001b[0m \u001b[0;34m=\u001b[0m \u001b[0mconn\u001b[0m\u001b[0;34m.\u001b[0m\u001b[0mcursor\u001b[0m\u001b[0;34m(\u001b[0m\u001b[0;34m)\u001b[0m\u001b[0;34m\u001b[0m\u001b[0;34m\u001b[0m\u001b[0m\n\u001b[1;32m     58\u001b[0m \u001b[0;34m\u001b[0m\u001b[0m\n",
      "\u001b[0;32m~/miniconda3/envs/rdkit-db-env/lib/python3.7/site-packages/psycopg2/__init__.py\u001b[0m in \u001b[0;36mconnect\u001b[0;34m(dsn, connection_factory, cursor_factory, **kwargs)\u001b[0m\n\u001b[1;32m    125\u001b[0m \u001b[0;34m\u001b[0m\u001b[0m\n\u001b[1;32m    126\u001b[0m     \u001b[0mdsn\u001b[0m \u001b[0;34m=\u001b[0m \u001b[0m_ext\u001b[0m\u001b[0;34m.\u001b[0m\u001b[0mmake_dsn\u001b[0m\u001b[0;34m(\u001b[0m\u001b[0mdsn\u001b[0m\u001b[0;34m,\u001b[0m \u001b[0;34m**\u001b[0m\u001b[0mkwargs\u001b[0m\u001b[0;34m)\u001b[0m\u001b[0;34m\u001b[0m\u001b[0;34m\u001b[0m\u001b[0m\n\u001b[0;32m--> 127\u001b[0;31m     \u001b[0mconn\u001b[0m \u001b[0;34m=\u001b[0m \u001b[0m_connect\u001b[0m\u001b[0;34m(\u001b[0m\u001b[0mdsn\u001b[0m\u001b[0;34m,\u001b[0m \u001b[0mconnection_factory\u001b[0m\u001b[0;34m=\u001b[0m\u001b[0mconnection_factory\u001b[0m\u001b[0;34m,\u001b[0m \u001b[0;34m**\u001b[0m\u001b[0mkwasync\u001b[0m\u001b[0;34m)\u001b[0m\u001b[0;34m\u001b[0m\u001b[0;34m\u001b[0m\u001b[0m\n\u001b[0m\u001b[1;32m    128\u001b[0m     \u001b[0;32mif\u001b[0m \u001b[0mcursor_factory\u001b[0m \u001b[0;32mis\u001b[0m \u001b[0;32mnot\u001b[0m \u001b[0;32mNone\u001b[0m\u001b[0;34m:\u001b[0m\u001b[0;34m\u001b[0m\u001b[0;34m\u001b[0m\u001b[0m\n\u001b[1;32m    129\u001b[0m         \u001b[0mconn\u001b[0m\u001b[0;34m.\u001b[0m\u001b[0mcursor_factory\u001b[0m \u001b[0;34m=\u001b[0m \u001b[0mcursor_factory\u001b[0m\u001b[0;34m\u001b[0m\u001b[0;34m\u001b[0m\u001b[0m\n",
      "\u001b[0;31mOperationalError\u001b[0m: could not connect to server: No such file or directory\n\tIs the server running locally and accepting\n\tconnections on Unix domain socket \"/tmp/.s.PGSQL.5432\"?\n"
     ]
    }
   ],
   "source": [
    "chembl_db_time = SearchTime(\"chembl_28\")\n",
    "mols_list = [\"c1ccccc1O\",\n",
    "             \"C=CCOc1nc(-c2ccc(N)cn2)nc(C)c1Cl\",\n",
    "             \"Cc1ccc2nc(-c3ccc(NC(C4N(C(c5cccs5)=O)CCC4)=O)cc3)sc2c1\", \n",
    "             \"c1ccccc1\",\n",
    "             \"COc1ccc2c(=O)c(-c3ccccc3)coc2c1C\",\n",
    "             \"CCCCCCCC[C@H]1CCC(=O)O1\"  \n",
    "            ]"
   ]
  },
  {
   "cell_type": "markdown",
   "metadata": {},
   "source": [
    "### Substucture and similarity search using mfp2, ffp2, torsionbv fingerprints \n",
    "By default, the minimum similarity returned with a similarity search is 0.5"
   ]
  },
  {
   "cell_type": "code",
   "execution_count": 2,
   "metadata": {},
   "outputs": [
    {
     "name": "stdout",
     "output_type": "stream",
     "text": [
      "c1ccccc1O\n",
      "C=CCOc1nc(-c2ccc(N)cn2)nc(C)c1Cl\n",
      "Cc1ccc2nc(-c3ccc(NC(C4N(C(c5cccs5)=O)CCC4)=O)cc3)sc2c1\n",
      "c1ccccc1\n",
      "COc1ccc2c(=O)c(-c3ccccc3)coc2c1C\n",
      "CCCCCCCC[C@H]1CCC(=O)O1\n"
     ]
    }
   ],
   "source": [
    "substructure_search = []\n",
    "sorted_mfp_substructure = []\n",
    "similarity_mfp2 = []\n",
    "similarity_ffp2 = []\n",
    "similarity_torsionbv =[] \n",
    "\n",
    "for mol_smi in mols_list:\n",
    "    print(mol_smi)\n",
    "    substructure_time = chembl_db_time.get(mol_smi=mol_smi, search_type=\"substructure\")\n",
    "    substructure_search.append(substructure_time)\n",
    "    \n",
    "    sorted_mfp_substructure_time = chembl_db_time.get(mol_smi=mol_smi, search_type=\"substructure\", sort_by_similarity=True, fp_type=\"mfp2\")\n",
    "    sorted_mfp_substructure.append(sorted_mfp_substructure_time)\n",
    "    \n",
    "    similarity_mfp2_time = chembl_db_time.get(mol_smi=mol_smi, search_type=\"similarity\", fp_type=\"mfp2\")\n",
    "    similarity_mfp2.append(similarity_mfp2_time)\n",
    "        \n",
    "    similarity_ffp2_time = chembl_db_time.get(mol_smi=mol_smi, search_type=\"similarity\", fp_type=\"ffp2\")\n",
    "    similarity_ffp2.append(similarity_ffp2_time)\n",
    "    \n",
    "    similarity_time_torsionbv = chembl_db_time.get(mol_smi=mol_smi, search_type=\"similarity\", fp_type=\"torsionbv\")\n",
    "    similarity_torsionbv.append(similarity_time_torsionbv)"
   ]
  },
  {
   "cell_type": "code",
   "execution_count": 5,
   "metadata": {},
   "outputs": [],
   "source": [
    "sorted_similarity_mfp2 = []\n",
    "for mol_smi in mols_list:\n",
    "    chembl_db_time = SearchTime(\"chembl_28\")\n",
    "    sorted_similarity_mfp2_time = chembl_db_time.get(mol_smi=mol_smi, search_type=\"similarity\", first_in=False, fp_type=\"mfp2\", sort_by_similarity=True)\n",
    "    sorted_similarity_mfp2.append(sorted_similarity_mfp2_time)"
   ]
  },
  {
   "cell_type": "code",
   "execution_count": 6,
   "metadata": {},
   "outputs": [],
   "source": [
    "df = pd.DataFrame(\n",
    "    {\n",
    "        \"smiles\": mols_list,\n",
    "        \"substructure\": substructure_search,\n",
    "        \"sorted mfp substructure\": sorted_mfp_substructure,\n",
    "        \"similarity mfp2\": similarity_mfp2,\n",
    "        \"similarity ffp2\": similarity_ffp2,\n",
    "        \"similarity torsionbv\": similarity_torsionbv, \n",
    "        \"sorted similarity mfp2\": sorted_similarity_mfp2\n",
    "    }\n",
    ")"
   ]
  },
  {
   "cell_type": "code",
   "execution_count": 7,
   "metadata": {},
   "outputs": [
    {
     "data": {
      "text/html": [
       "<div>\n",
       "<style scoped>\n",
       "    .dataframe tbody tr th:only-of-type {\n",
       "        vertical-align: middle;\n",
       "    }\n",
       "\n",
       "    .dataframe tbody tr th {\n",
       "        vertical-align: top;\n",
       "    }\n",
       "\n",
       "    .dataframe thead th {\n",
       "        text-align: right;\n",
       "    }\n",
       "</style>\n",
       "<table border=\"1\" class=\"dataframe\">\n",
       "  <thead>\n",
       "    <tr style=\"text-align: right;\">\n",
       "      <th></th>\n",
       "      <th>smiles</th>\n",
       "      <th>substructure</th>\n",
       "      <th>sorted mfp substructure</th>\n",
       "      <th>similarity mfp2</th>\n",
       "      <th>similarity ffp2</th>\n",
       "      <th>similarity torsionbv</th>\n",
       "      <th>sorted similarity mfp2</th>\n",
       "    </tr>\n",
       "  </thead>\n",
       "  <tbody>\n",
       "    <tr>\n",
       "      <th>0</th>\n",
       "      <td>c1ccccc1O</td>\n",
       "      <td>199.696615</td>\n",
       "      <td>314.895552</td>\n",
       "      <td>0.285287</td>\n",
       "      <td>0.122112</td>\n",
       "      <td>0.260168</td>\n",
       "      <td>0.634838</td>\n",
       "    </tr>\n",
       "    <tr>\n",
       "      <th>1</th>\n",
       "      <td>C=CCOc1nc(-c2ccc(N)cn2)nc(C)c1Cl</td>\n",
       "      <td>0.264231</td>\n",
       "      <td>0.102954</td>\n",
       "      <td>5.378641</td>\n",
       "      <td>2.430460</td>\n",
       "      <td>8.719382</td>\n",
       "      <td>0.952186</td>\n",
       "    </tr>\n",
       "    <tr>\n",
       "      <th>2</th>\n",
       "      <td>Cc1ccc2nc(-c3ccc(NC(C4N(C(c5cccs5)=O)CCC4)=O)c...</td>\n",
       "      <td>0.266374</td>\n",
       "      <td>0.032318</td>\n",
       "      <td>3.136643</td>\n",
       "      <td>0.650740</td>\n",
       "      <td>2.505200</td>\n",
       "      <td>1.465474</td>\n",
       "    </tr>\n",
       "    <tr>\n",
       "      <th>3</th>\n",
       "      <td>c1ccccc1</td>\n",
       "      <td>362.663778</td>\n",
       "      <td>703.778226</td>\n",
       "      <td>0.111506</td>\n",
       "      <td>0.013075</td>\n",
       "      <td>0.056480</td>\n",
       "      <td>0.620958</td>\n",
       "    </tr>\n",
       "    <tr>\n",
       "      <th>4</th>\n",
       "      <td>COc1ccc2c(=O)c(-c3ccccc3)coc2c1C</td>\n",
       "      <td>0.223555</td>\n",
       "      <td>0.052217</td>\n",
       "      <td>2.715084</td>\n",
       "      <td>0.651607</td>\n",
       "      <td>2.840743</td>\n",
       "      <td>0.969216</td>\n",
       "    </tr>\n",
       "    <tr>\n",
       "      <th>5</th>\n",
       "      <td>CCCCCCCC[C@H]1CCC(=O)O1</td>\n",
       "      <td>2.303754</td>\n",
       "      <td>1.736607</td>\n",
       "      <td>0.297132</td>\n",
       "      <td>0.215134</td>\n",
       "      <td>0.213754</td>\n",
       "      <td>0.840624</td>\n",
       "    </tr>\n",
       "  </tbody>\n",
       "</table>\n",
       "</div>"
      ],
      "text/plain": [
       "                                              smiles  substructure  \\\n",
       "0                                          c1ccccc1O    199.696615   \n",
       "1                   C=CCOc1nc(-c2ccc(N)cn2)nc(C)c1Cl      0.264231   \n",
       "2  Cc1ccc2nc(-c3ccc(NC(C4N(C(c5cccs5)=O)CCC4)=O)c...      0.266374   \n",
       "3                                           c1ccccc1    362.663778   \n",
       "4                   COc1ccc2c(=O)c(-c3ccccc3)coc2c1C      0.223555   \n",
       "5                            CCCCCCCC[C@H]1CCC(=O)O1      2.303754   \n",
       "\n",
       "   sorted mfp substructure  similarity mfp2  similarity ffp2  \\\n",
       "0               314.895552         0.285287         0.122112   \n",
       "1                 0.102954         5.378641         2.430460   \n",
       "2                 0.032318         3.136643         0.650740   \n",
       "3               703.778226         0.111506         0.013075   \n",
       "4                 0.052217         2.715084         0.651607   \n",
       "5                 1.736607         0.297132         0.215134   \n",
       "\n",
       "   similarity torsionbv  sorted similarity mfp2  \n",
       "0              0.260168                0.634838  \n",
       "1              8.719382                0.952186  \n",
       "2              2.505200                1.465474  \n",
       "3              0.056480                0.620958  \n",
       "4              2.840743                0.969216  \n",
       "5              0.213754                0.840624  "
      ]
     },
     "execution_count": 7,
     "metadata": {},
     "output_type": "execute_result"
    }
   ],
   "source": [
    "df"
   ]
  },
  {
   "cell_type": "code",
   "execution_count": 14,
   "metadata": {},
   "outputs": [],
   "source": [
    "df.to_excel(\"rdkit_time_tests.xlsx\")"
   ]
  },
  {
   "cell_type": "code",
   "execution_count": null,
   "metadata": {},
   "outputs": [],
   "source": []
  }
 ],
 "metadata": {
  "kernelspec": {
   "display_name": "PyCharm (rdkit-db)",
   "language": "python",
   "name": "pycharm-519cf57"
  }
 },
 "nbformat": 4,
 "nbformat_minor": 1
}
