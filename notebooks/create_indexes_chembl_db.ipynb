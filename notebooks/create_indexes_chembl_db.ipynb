{
 "cells": [
  {
   "cell_type": "markdown",
   "metadata": {
    "collapsed": true
   },
   "source": [
    "Create the molecules and build the substructure search index:\n",
    "#### Command\n",
    "```bash \n",
    "$chembl_28=# select * into rdk.mols from (select molregno,mol_from_ctab(molfile::cstring) m  from compound_structures) tmp where m is not null;\n",
    "```\n",
    "~ 23 minutes"
   ]
  },
  {
   "cell_type": "markdown",
   "metadata": {
    "pycharm": {
     "name": "#%%\n"
    }
   },
   "source": [
    "#### Command: \n",
    "```bash\n",
    "$chembl_28=# alter table rdk.mols add primary key (molregno);\n",
    "```\n",
    "~ 2 minutes"
   ]
  },
  {
   "cell_type": "markdown",
   "metadata": {},
   "source": [
    "#### Command\n",
    "```bash\n",
    "$ chembl_28 = # select molregno,torsionbv_fp(m) as torsionbv,morganbv_fp(m) as mfp2,featmorganbv_fp(m) as ffp2 into rdk.fps from rdk.mols;\n",
    "```\n",
    "\n",
    "~ 37 minutes"
   ]
  },
  {
   "cell_type": "markdown",
   "metadata": {},
   "source": [
    "#### Command\n",
    "```bash\n",
    "chembl_28=#  create index fps_ttbv_idx on rdk.fps using gist(torsionbv);\n",
    "CREATE INDEX\n",
    "```\n",
    "Time: 28976.654 ms (00:28.977)\n",
    "\n",
    "#### Command    \n",
    "```bash\n",
    "chembl_28=# create index fps_mfp2_idx on rdk.fps using gist(mfp2);\n",
    "CREATE INDEX\n",
    "```\n",
    "Time: 25157.116 ms (00:25.157)"
   ]
  },
  {
   "cell_type": "markdown",
   "metadata": {},
   "source": [
    "#### Command \n",
    "\n",
    "```bash \n",
    "chembl_28=# create index fps_ffp2_idx on rdk.fps using gist(ffp2);\n",
    "CREATE INDEX\n",
    "```\n",
    "Time: 24965.827 ms (00:24.966)\n",
    "\n",
    "#### Command \n",
    "```bash\n",
    "chembl_28=# alter table rdk.fps add primary key (molregno);\n",
    "ALTER TABLE\n",
    "```\n",
    "Time: 5431.664 ms (00:05.432)"
   ]
  },
  {
   "cell_type": "code",
   "execution_count": null,
   "metadata": {},
   "outputs": [],
   "source": []
  }
 ],
 "metadata": {
  "kernelspec": {
   "display_name": "PyCharm (rdkit-db)",
   "language": "python",
   "name": "pycharm-519cf57"
  },
  "language_info": {
   "codemirror_mode": {
    "name": "ipython",
    "version": 3
   },
   "file_extension": ".py",
   "mimetype": "text/x-python",
   "name": "python",
   "nbconvert_exporter": "python",
   "pygments_lexer": "ipython3",
   "version": "3.7.10"
  }
 },
 "nbformat": 4,
 "nbformat_minor": 1
}